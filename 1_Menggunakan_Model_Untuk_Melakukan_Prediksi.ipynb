{
  "nbformat": 4,
  "nbformat_minor": 0,
  "metadata": {
    "colab": {
      "provenance": [],
      "toc_visible": true,
      "authorship_tag": "ABX9TyM6lqutwSxp8LM9l1huOlPa",
      "include_colab_link": true
    },
    "kernelspec": {
      "name": "python3",
      "display_name": "Python 3"
    },
    "language_info": {
      "name": "python"
    }
  },
  "cells": [
    {
      "cell_type": "markdown",
      "metadata": {
        "id": "view-in-github",
        "colab_type": "text"
      },
      "source": [
        "<a href=\"https://colab.research.google.com/github/alwiyahya99/MachineLearning/blob/main/1_Menggunakan_Model_Untuk_Melakukan_Prediksi.ipynb\" target=\"_parent\"><img src=\"https://colab.research.google.com/assets/colab-badge.svg\" alt=\"Open In Colab\"/></a>"
      ]
    },
    {
      "cell_type": "markdown",
      "source": [
        "**Membuat Dan Melatih Model NN Dengan Tensorflow Dan Keras : Menggunakan Model Untuk Melakukan Prediksi**\n",
        "\n",
        "Bagian dari materi **Belajar Pengembangan Machine Learning**\n"
      ],
      "metadata": {
        "id": "sXCa3nMpKACT"
      }
    },
    {
      "cell_type": "markdown",
      "source": [
        "# **1. IMPORT LIBRARY**"
      ],
      "metadata": {
        "id": "HRqmwsP8qGiB"
      }
    },
    {
      "cell_type": "code",
      "execution_count": null,
      "metadata": {
        "id": "4i1KyO3kCyMk"
      },
      "outputs": [],
      "source": [
        "import tensorflow as tf\n",
        "import numpy as np\n",
        "from tensorflow import keras"
      ]
    },
    {
      "cell_type": "markdown",
      "source": [
        "# **2. MASUKAN DATA**"
      ],
      "metadata": {
        "id": "7-QDuuYQqZVC"
      }
    },
    {
      "cell_type": "code",
      "source": [
        "xs = np.array([1.0, 2.0, 3.0, 4.0, 5.0, 6.0], dtype=float)\n",
        "ys = np.array([4.0, 6.0, 8.0, 10.0, 12.0, 14.0], dtype=float)"
      ],
      "metadata": {
        "id": "GAcbcIJNDELQ"
      },
      "execution_count": null,
      "outputs": []
    },
    {
      "cell_type": "markdown",
      "source": [
        "# **3. MEMBUAT MODEL**\n",
        "\n",
        "membuat janringan JST(Jaringan Saraf Tiruan) dengan memanggil fungsi tf.keras.Squential()"
      ],
      "metadata": {
        "id": "A7NVKHZuEP_c"
      }
    },
    {
      "cell_type": "code",
      "source": [
        "model = tf.keras.Sequential([keras.layers.Dense(units=1, input_shape=[1])])"
      ],
      "metadata": {
        "id": "OQSVtFO0DYS0"
      },
      "execution_count": null,
      "outputs": []
    },
    {
      "cell_type": "markdown",
      "source": [
        "### **model dengan beberapa layer**"
      ],
      "metadata": {
        "id": "a3vLizxcyCHb"
      }
    },
    {
      "cell_type": "code",
      "source": [
        "# model2 = tf.keras.Sequential([\n",
        "#                              keras.layers.Dense(units=1, input_shape=[1]),\n",
        "#                              keras.layers.Dense(units=8),\n",
        "#                              keras.layers.Dense(units=1)])"
      ],
      "metadata": {
        "id": "kYLU-Qk8yFGm"
      },
      "execution_count": 30,
      "outputs": []
    },
    {
      "cell_type": "markdown",
      "source": [
        "Pada model sequential ini, kemudian isi layer yang kita inginkan untuk model kita. untuk membuat sebuah layer dapat menggunakan fungsi keras.layer.Dense().\n",
        "PARAMETER :\n",
        "- **unit**\n",
        "\n",
        "dari fungsi keras.layer.Dense() adalah jumlah perceptron yang dimiliki oleh ayer tersebut. 'perlu diperhatikan pada model sequential : layer pertaman dari model haruslah memiliki parameter input_shape agar model bisa mengenali bentuk input yang akan diproses'.\n",
        "\n",
        "- **input_shape**\n",
        "\n",
        "menunjukan bentuk dari setiap elemen input yang akan diterima oleh model. pada kasus ini kita setiap elemen dari data kita adalah sebuah bilanagan numerik 1 digit, sehingga bisa isi input_shape kita dengan angka 1. jika elemen dari sebuah dataset kita berupa gambar berdimensi 32*32 pixel, maka input_shape yang sesuai adalah [32,32]"
      ],
      "metadata": {
        "id": "PaN4KcxkEZFN"
      }
    },
    {
      "cell_type": "markdown",
      "source": [
        "**4. menentukan optimizer dan loss dari model**\n",
        "\n",
        "kemudian, menentukan optimizer dan loss dari model agar model kita bisa belajar. untuk menentukan optimizer dan loss kita gunakan fungsi compile.\n",
        "untuk masala regresi kita yang sederhana, kita dapat menggunakan stochastic gradient descent sebagai optimizer, dan mean squared error sebagai loss function model kita."
      ],
      "metadata": {
        "id": "CScCOaU5Fy68"
      }
    },
    {
      "cell_type": "code",
      "source": [
        "model.compile(optimizer='sgd', loss='mean_squared_error')"
      ],
      "metadata": {
        "id": "CD0TrWLPGRUt"
      },
      "execution_count": null,
      "outputs": []
    },
    {
      "cell_type": "code",
      "source": [
        "# model2.compile(optimizer='sgd', loss='mean_squared_error')"
      ],
      "metadata": {
        "id": "rh9z7q4Fylci"
      },
      "execution_count": 28,
      "outputs": []
    },
    {
      "cell_type": "markdown",
      "source": [
        "**5. MELATIH MODEL**\n",
        "\n",
        "terakhir, kita panggil fungsi yang paling terkenal dari machine learning yaitu fit().\n",
        "\n",
        "fit() adalah **fungsi di mana kita menyuruh model kita untuk mempelajari hubungan antara atribut dan label pada dataset**.\n",
        "\n",
        "selain atribut dan label, parameter lain yang diperlukan sebuah model keras pada fit adalah epochs.\n",
        "epochs adalah berapa kali sebuah JST(Jaringan Saraf Tiruan) harus belajar memperbaiki akurasinya."
      ],
      "metadata": {
        "id": "i5oZZrywGadm"
      }
    },
    {
      "cell_type": "code",
      "source": [
        "model.fit(xs, ys, epochs=150)\n",
        "\n",
        "# dapat dilihat setiap epochs yang baru, error atau loss yang dibuat model\n",
        "# akan semakin menurun pada kasus regresi kita"
      ],
      "metadata": {
        "id": "nu1185MSHHRp"
      },
      "execution_count": 23,
      "outputs": []
    },
    {
      "cell_type": "code",
      "source": [
        "model2 = tf.keras.Sequential([\n",
        "                             keras.layers.Dense(units=1, input_shape=[1]),\n",
        "                             keras.layers.Dense(units=8),\n",
        "                             keras.layers.Dense(units=1)])\n",
        "model2.compile(optimizer='sgd', loss='mean_squared_error')\n",
        "model2.fit(xs, ys, epochs=50)"
      ],
      "metadata": {
        "colab": {
          "base_uri": "https://localhost:8080/"
        },
        "id": "9gsbSLWzys3K",
        "outputId": "14817af3-f60a-4990-8366-92949b063e86"
      },
      "execution_count": 35,
      "outputs": [
        {
          "output_type": "stream",
          "name": "stdout",
          "text": [
            "Epoch 1/50\n",
            "1/1 [==============================] - 0s 401ms/step - loss: 79.9000\n",
            "Epoch 2/50\n",
            "1/1 [==============================] - 0s 9ms/step - loss: 9.4262\n",
            "Epoch 3/50\n",
            "1/1 [==============================] - 0s 8ms/step - loss: 41.6595\n",
            "Epoch 4/50\n",
            "1/1 [==============================] - 0s 10ms/step - loss: 80.8645\n",
            "Epoch 5/50\n",
            "1/1 [==============================] - 0s 9ms/step - loss: 51.9359\n",
            "Epoch 6/50\n",
            "1/1 [==============================] - 0s 8ms/step - loss: 2.3108\n",
            "Epoch 7/50\n",
            "1/1 [==============================] - 0s 8ms/step - loss: 7.2931\n",
            "Epoch 8/50\n",
            "1/1 [==============================] - 0s 9ms/step - loss: 29.9768\n",
            "Epoch 9/50\n",
            "1/1 [==============================] - 0s 9ms/step - loss: 5.0806\n",
            "Epoch 10/50\n",
            "1/1 [==============================] - 0s 8ms/step - loss: 20.2998\n",
            "Epoch 11/50\n",
            "1/1 [==============================] - 0s 9ms/step - loss: 10.7193\n",
            "Epoch 12/50\n",
            "1/1 [==============================] - 0s 8ms/step - loss: 38.2261\n",
            "Epoch 13/50\n",
            "1/1 [==============================] - 0s 9ms/step - loss: 0.0245\n",
            "Epoch 14/50\n",
            "1/1 [==============================] - 0s 8ms/step - loss: 0.0559\n",
            "Epoch 15/50\n",
            "1/1 [==============================] - 0s 9ms/step - loss: 0.1640\n",
            "Epoch 16/50\n",
            "1/1 [==============================] - 0s 9ms/step - loss: 0.4832\n",
            "Epoch 17/50\n",
            "1/1 [==============================] - 0s 8ms/step - loss: 1.6697\n",
            "Epoch 18/50\n",
            "1/1 [==============================] - 0s 8ms/step - loss: 4.1933\n",
            "Epoch 19/50\n",
            "1/1 [==============================] - 0s 8ms/step - loss: 15.2065\n",
            "Epoch 20/50\n",
            "1/1 [==============================] - 0s 8ms/step - loss: 10.0343\n",
            "Epoch 21/50\n",
            "1/1 [==============================] - 0s 10ms/step - loss: 33.5606\n",
            "Epoch 22/50\n",
            "1/1 [==============================] - 0s 7ms/step - loss: 0.0742\n",
            "Epoch 23/50\n",
            "1/1 [==============================] - 0s 10ms/step - loss: 0.1755\n",
            "Epoch 24/50\n",
            "1/1 [==============================] - 0s 9ms/step - loss: 0.4429\n",
            "Epoch 25/50\n",
            "1/1 [==============================] - 0s 11ms/step - loss: 1.3662\n",
            "Epoch 26/50\n",
            "1/1 [==============================] - 0s 13ms/step - loss: 3.1346\n",
            "Epoch 27/50\n",
            "1/1 [==============================] - 0s 14ms/step - loss: 10.5578\n",
            "Epoch 28/50\n",
            "1/1 [==============================] - 0s 8ms/step - loss: 9.4520\n",
            "Epoch 29/50\n",
            "1/1 [==============================] - 0s 8ms/step - loss: 30.2396\n",
            "Epoch 30/50\n",
            "1/1 [==============================] - 0s 8ms/step - loss: 0.2705\n",
            "Epoch 31/50\n",
            "1/1 [==============================] - 0s 8ms/step - loss: 0.7212\n",
            "Epoch 32/50\n",
            "1/1 [==============================] - 0s 10ms/step - loss: 1.6274\n",
            "Epoch 33/50\n",
            "1/1 [==============================] - 0s 12ms/step - loss: 5.0550\n",
            "Epoch 34/50\n",
            "1/1 [==============================] - 0s 8ms/step - loss: 7.1541\n",
            "Epoch 35/50\n",
            "1/1 [==============================] - 0s 10ms/step - loss: 22.5452\n",
            "Epoch 36/50\n",
            "1/1 [==============================] - 0s 8ms/step - loss: 2.5385\n",
            "Epoch 37/50\n",
            "1/1 [==============================] - 0s 11ms/step - loss: 7.7574\n",
            "Epoch 38/50\n",
            "1/1 [==============================] - 0s 9ms/step - loss: 7.6594\n",
            "Epoch 39/50\n",
            "1/1 [==============================] - 0s 8ms/step - loss: 23.3110\n",
            "Epoch 40/50\n",
            "1/1 [==============================] - 0s 8ms/step - loss: 1.6769\n",
            "Epoch 41/50\n",
            "1/1 [==============================] - 0s 8ms/step - loss: 4.8082\n",
            "Epoch 42/50\n",
            "1/1 [==============================] - 0s 8ms/step - loss: 6.1187\n",
            "Epoch 43/50\n",
            "1/1 [==============================] - 0s 8ms/step - loss: 18.2674\n",
            "Epoch 44/50\n",
            "1/1 [==============================] - 0s 8ms/step - loss: 3.5740\n",
            "Epoch 45/50\n",
            "1/1 [==============================] - 0s 8ms/step - loss: 10.3978\n",
            "Epoch 46/50\n",
            "1/1 [==============================] - 0s 9ms/step - loss: 6.4545\n",
            "Epoch 47/50\n",
            "1/1 [==============================] - 0s 8ms/step - loss: 18.7238\n",
            "Epoch 48/50\n",
            "1/1 [==============================] - 0s 8ms/step - loss: 2.8759\n",
            "Epoch 49/50\n",
            "1/1 [==============================] - 0s 9ms/step - loss: 8.0182\n",
            "Epoch 50/50\n",
            "1/1 [==============================] - 0s 8ms/step - loss: 6.2338\n"
          ]
        },
        {
          "output_type": "execute_result",
          "data": {
            "text/plain": [
              "<keras.src.callbacks.History at 0x792d18d428f0>"
            ]
          },
          "metadata": {},
          "execution_count": 35
        }
      ]
    },
    {
      "cell_type": "markdown",
      "source": [
        "**6. MENJALANKAN MODEL**\n",
        "\n",
        "model yang telah di latih, dapat kita gunakan model tersebut untuk memprediksi data yang belum pernah dilihatnya/ada menggunakan fungsi predict.\n",
        "ketika menjalankan kode 'print(model.predict([10.0]))' hasil yang didapat seharusnya adalah 22 dimana 2(10)+2=22."
      ],
      "metadata": {
        "id": "UYT2bbQnHmDn"
      }
    },
    {
      "cell_type": "code",
      "source": [
        "print(model.predict([10.0]))"
      ],
      "metadata": {
        "colab": {
          "base_uri": "https://localhost:8080/"
        },
        "id": "fimAS4dKI2bG",
        "outputId": "b2adf9e0-c67f-4a07-ee82-b093c7c8dd8a"
      },
      "execution_count": 15,
      "outputs": [
        {
          "output_type": "stream",
          "name": "stdout",
          "text": [
            "1/1 [==============================] - 0s 50ms/step\n",
            "[[22.727264]]\n"
          ]
        }
      ]
    },
    {
      "cell_type": "code",
      "source": [
        "print(model2.predict([10.0]))"
      ],
      "metadata": {
        "colab": {
          "base_uri": "https://localhost:8080/"
        },
        "id": "rf4uO7wGywj3",
        "outputId": "8495e1e9-08f5-4169-b5c7-7d83dd41e0f7"
      },
      "execution_count": 37,
      "outputs": [
        {
          "output_type": "stream",
          "name": "stdout",
          "text": [
            "1/1 [==============================] - 0s 35ms/step\n",
            "[[11.0541935]]\n"
          ]
        }
      ]
    },
    {
      "cell_type": "markdown",
      "source": [
        "hasil yang didapat dari JST(Jaringan Saraf Tiruan) kita akan mendekati angka 22/23. karena JST menghiyung probabilitas. NN tidak memprediksi kepastian melainkan probabilitas.\n",
        "pada kasus ini NN mempelajari bahwa pola yang terdapat pada dataset kemungkinan adalah 2X+2, namun ia juga belum pasti tentang hal itu. sehingga prediksi yang dihasilkan adalah probabilitas hasilnya mendekati 22/23. semakin banyak data yang kita berikan dan juga error ketika trining model semakin kecil, maka prediksi dari NN akan semakin mendekati 22/23."
      ],
      "metadata": {
        "id": "Qu6tAthMJJwJ"
      }
    }
  ]
}
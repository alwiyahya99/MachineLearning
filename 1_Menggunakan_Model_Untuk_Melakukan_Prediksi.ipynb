{
  "nbformat": 4,
  "nbformat_minor": 0,
  "metadata": {
    "colab": {
      "provenance": [],
      "authorship_tag": "ABX9TyOqFaWeibvVQvkANBmpIMTM"
    },
    "kernelspec": {
      "name": "python3",
      "display_name": "Python 3"
    },
    "language_info": {
      "name": "python"
    }
  },
  "cells": [
    {
      "cell_type": "markdown",
      "source": [
        "**Membuat Dan Mlatih Model NN Dengan Tensorflow Dan Keras : Menggunakan Model Untuk Melakukan Prediksi**\n",
        "\n",
        "Bagian dari materi **Belajar Pengembangan Machine Learning**\n"
      ],
      "metadata": {
        "id": "sXCa3nMpKACT"
      }
    },
    {
      "cell_type": "code",
      "execution_count": null,
      "metadata": {
        "id": "4i1KyO3kCyMk"
      },
      "outputs": [],
      "source": [
        "import tensorflow as tf\n",
        "import numpy as np\n",
        "from tensorflow import keras"
      ]
    },
    {
      "cell_type": "code",
      "source": [
        "xs = np.array([1.0,  2.0, 3.0, 4.0, 5.0, 6.0], dtype=float)\n",
        "ys = np.array([4.0, 6.0, 8.0, 10.0, 12.0, 14.0], dtype=float)"
      ],
      "metadata": {
        "id": "GAcbcIJNDELQ"
      },
      "execution_count": null,
      "outputs": []
    },
    {
      "cell_type": "markdown",
      "source": [
        "Membuat model JST(Jaringan Saraf Tiruan) dengan memanggil fungsi tf.keras.Squential()"
      ],
      "metadata": {
        "id": "A7NVKHZuEP_c"
      }
    },
    {
      "cell_type": "code",
      "source": [
        "model = tf.keras.Sequential([keras.layers.Dense(units=1, input_shape=[1])])"
      ],
      "metadata": {
        "id": "OQSVtFO0DYS0"
      },
      "execution_count": null,
      "outputs": []
    },
    {
      "cell_type": "markdown",
      "source": [
        "Pada model sequential ini, kemudian isi layer yang kita inginkan untuk model kita. untuk membuat sebuah layer dapat menggunakan fungsi keras.layer.Dense().\n",
        "- parameter unit dari fungsi keras.layer.Dense() adalah jumlah perceptron yang dimiliki oleh ayer tersebut. 'perlu diperhatikan pada model sequential : layer pertaman dari model haruslah memiliki parameter input_shape agar model bisa mengenali bentuk input yang akan diproses'.\n",
        "-parameter input_shape menunjukan bentuk dari setiap elemen input yang akan diterima oleh model. pada kasus ini kita setiap elemen dari data kita adalah sebuah bilanagan numerik 1 digit, sehingga bisa isi input_shape kita dengan angka 1. jika elemen dari sebuah dataset kita berupa gambar berdimensi 32*32 pixel, maka input_shape yang sesuai adalah [32,32]"
      ],
      "metadata": {
        "id": "PaN4KcxkEZFN"
      }
    },
    {
      "cell_type": "markdown",
      "source": [
        "kemudian, menentukan optimizer dan loss dari model agar model kita bisa belajar. untuk menentukan optimizer dan loss kita gunakan fungsi compile.\n",
        "untuk masala regresi kita yang sederhana, kita dapat menggunakan stochastic gradient descent sebagai optimizer, dan mean squared error sebagai loss function model kita."
      ],
      "metadata": {
        "id": "CScCOaU5Fy68"
      }
    },
    {
      "cell_type": "code",
      "source": [
        "model.compile(optimizer='sgd', loss='mean_squared_error')"
      ],
      "metadata": {
        "id": "CD0TrWLPGRUt"
      },
      "execution_count": null,
      "outputs": []
    },
    {
      "cell_type": "markdown",
      "source": [
        "terakhir, kita panggil fungsi yang paling terkenal dari machine learning yaitu fit().\n",
        "fungsi fit() adalah fungsi di mana kita menyuruh model kita untuk mempelajari hubungan antara atribut dan label pada dataset. selain atribut dan label, parameter lain yang diperlukan sebuah model keras pada fit adalah epochs.\n",
        "epochs adalah berapa kali sebuah JST(Jaringan Saraf Tiruan) harus belajar memperbaiki akurasinya."
      ],
      "metadata": {
        "id": "i5oZZrywGadm"
      }
    },
    {
      "cell_type": "code",
      "source": [
        "model.fit(xs, ys, epochs=150)\n",
        "\n",
        "# dapat dilihat setiap epochs yang baru, error atau loss yang dibuat model\n",
        "# akan semakin menurun pada kasus regresi kita"
      ],
      "metadata": {
        "colab": {
          "base_uri": "https://localhost:8080/"
        },
        "id": "nu1185MSHHRp",
        "outputId": "1483535f-549f-4cf1-f050-319de6f0b8d5"
      },
      "execution_count": null,
      "outputs": [
        {
          "output_type": "stream",
          "name": "stdout",
          "text": [
            "Epoch 1/150\n",
            "1/1 [==============================] - 0s 428ms/step - loss: 19.8504\n",
            "Epoch 2/150\n",
            "1/1 [==============================] - 0s 9ms/step - loss: 9.4997\n",
            "Epoch 3/150\n",
            "1/1 [==============================] - 0s 11ms/step - loss: 4.7069\n",
            "Epoch 4/150\n",
            "1/1 [==============================] - 0s 9ms/step - loss: 2.4863\n",
            "Epoch 5/150\n",
            "1/1 [==============================] - 0s 8ms/step - loss: 1.4563\n",
            "Epoch 6/150\n",
            "1/1 [==============================] - 0s 13ms/step - loss: 0.9774\n",
            "Epoch 7/150\n",
            "1/1 [==============================] - 0s 11ms/step - loss: 0.7535\n",
            "Epoch 8/150\n",
            "1/1 [==============================] - 0s 9ms/step - loss: 0.6477\n",
            "Epoch 9/150\n",
            "1/1 [==============================] - 0s 9ms/step - loss: 0.5966\n",
            "Epoch 10/150\n",
            "1/1 [==============================] - 0s 9ms/step - loss: 0.5707\n",
            "Epoch 11/150\n",
            "1/1 [==============================] - 0s 8ms/step - loss: 0.5566\n",
            "Epoch 12/150\n",
            "1/1 [==============================] - 0s 8ms/step - loss: 0.5480\n",
            "Epoch 13/150\n",
            "1/1 [==============================] - 0s 8ms/step - loss: 0.5419\n",
            "Epoch 14/150\n",
            "1/1 [==============================] - 0s 8ms/step - loss: 0.5369\n",
            "Epoch 15/150\n",
            "1/1 [==============================] - 0s 8ms/step - loss: 0.5326\n",
            "Epoch 16/150\n",
            "1/1 [==============================] - 0s 8ms/step - loss: 0.5285\n",
            "Epoch 17/150\n",
            "1/1 [==============================] - 0s 9ms/step - loss: 0.5245\n",
            "Epoch 18/150\n",
            "1/1 [==============================] - 0s 8ms/step - loss: 0.5207\n",
            "Epoch 19/150\n",
            "1/1 [==============================] - 0s 9ms/step - loss: 0.5168\n",
            "Epoch 20/150\n",
            "1/1 [==============================] - 0s 9ms/step - loss: 0.5131\n",
            "Epoch 21/150\n",
            "1/1 [==============================] - 0s 9ms/step - loss: 0.5093\n",
            "Epoch 22/150\n",
            "1/1 [==============================] - 0s 10ms/step - loss: 0.5056\n",
            "Epoch 23/150\n",
            "1/1 [==============================] - 0s 8ms/step - loss: 0.5019\n",
            "Epoch 24/150\n",
            "1/1 [==============================] - 0s 17ms/step - loss: 0.4983\n",
            "Epoch 25/150\n",
            "1/1 [==============================] - 0s 9ms/step - loss: 0.4946\n",
            "Epoch 26/150\n",
            "1/1 [==============================] - 0s 9ms/step - loss: 0.4910\n",
            "Epoch 27/150\n",
            "1/1 [==============================] - 0s 9ms/step - loss: 0.4875\n",
            "Epoch 28/150\n",
            "1/1 [==============================] - 0s 9ms/step - loss: 0.4839\n",
            "Epoch 29/150\n",
            "1/1 [==============================] - 0s 9ms/step - loss: 0.4804\n",
            "Epoch 30/150\n",
            "1/1 [==============================] - 0s 9ms/step - loss: 0.4769\n",
            "Epoch 31/150\n",
            "1/1 [==============================] - 0s 9ms/step - loss: 0.4734\n",
            "Epoch 32/150\n",
            "1/1 [==============================] - 0s 15ms/step - loss: 0.4700\n",
            "Epoch 33/150\n",
            "1/1 [==============================] - 0s 9ms/step - loss: 0.4665\n",
            "Epoch 34/150\n",
            "1/1 [==============================] - 0s 10ms/step - loss: 0.4631\n",
            "Epoch 35/150\n",
            "1/1 [==============================] - 0s 10ms/step - loss: 0.4598\n",
            "Epoch 36/150\n",
            "1/1 [==============================] - 0s 9ms/step - loss: 0.4564\n",
            "Epoch 37/150\n",
            "1/1 [==============================] - 0s 9ms/step - loss: 0.4531\n",
            "Epoch 38/150\n",
            "1/1 [==============================] - 0s 10ms/step - loss: 0.4498\n",
            "Epoch 39/150\n",
            "1/1 [==============================] - 0s 9ms/step - loss: 0.4465\n",
            "Epoch 40/150\n",
            "1/1 [==============================] - 0s 10ms/step - loss: 0.4433\n",
            "Epoch 41/150\n",
            "1/1 [==============================] - 0s 12ms/step - loss: 0.4400\n",
            "Epoch 42/150\n",
            "1/1 [==============================] - 0s 9ms/step - loss: 0.4368\n",
            "Epoch 43/150\n",
            "1/1 [==============================] - 0s 8ms/step - loss: 0.4336\n",
            "Epoch 44/150\n",
            "1/1 [==============================] - 0s 8ms/step - loss: 0.4305\n",
            "Epoch 45/150\n",
            "1/1 [==============================] - 0s 9ms/step - loss: 0.4273\n",
            "Epoch 46/150\n",
            "1/1 [==============================] - 0s 9ms/step - loss: 0.4242\n",
            "Epoch 47/150\n",
            "1/1 [==============================] - 0s 8ms/step - loss: 0.4211\n",
            "Epoch 48/150\n",
            "1/1 [==============================] - 0s 10ms/step - loss: 0.4181\n",
            "Epoch 49/150\n",
            "1/1 [==============================] - 0s 8ms/step - loss: 0.4150\n",
            "Epoch 50/150\n",
            "1/1 [==============================] - 0s 9ms/step - loss: 0.4120\n",
            "Epoch 51/150\n",
            "1/1 [==============================] - 0s 10ms/step - loss: 0.4090\n",
            "Epoch 52/150\n",
            "1/1 [==============================] - 0s 10ms/step - loss: 0.4060\n",
            "Epoch 53/150\n",
            "1/1 [==============================] - 0s 9ms/step - loss: 0.4031\n",
            "Epoch 54/150\n",
            "1/1 [==============================] - 0s 9ms/step - loss: 0.4001\n",
            "Epoch 55/150\n",
            "1/1 [==============================] - 0s 9ms/step - loss: 0.3972\n",
            "Epoch 56/150\n",
            "1/1 [==============================] - 0s 9ms/step - loss: 0.3943\n",
            "Epoch 57/150\n",
            "1/1 [==============================] - 0s 12ms/step - loss: 0.3914\n",
            "Epoch 58/150\n",
            "1/1 [==============================] - 0s 10ms/step - loss: 0.3886\n",
            "Epoch 59/150\n",
            "1/1 [==============================] - 0s 10ms/step - loss: 0.3858\n",
            "Epoch 60/150\n",
            "1/1 [==============================] - 0s 10ms/step - loss: 0.3829\n",
            "Epoch 61/150\n",
            "1/1 [==============================] - 0s 10ms/step - loss: 0.3802\n",
            "Epoch 62/150\n",
            "1/1 [==============================] - 0s 10ms/step - loss: 0.3774\n",
            "Epoch 63/150\n",
            "1/1 [==============================] - 0s 10ms/step - loss: 0.3746\n",
            "Epoch 64/150\n",
            "1/1 [==============================] - 0s 10ms/step - loss: 0.3719\n",
            "Epoch 65/150\n",
            "1/1 [==============================] - 0s 10ms/step - loss: 0.3692\n",
            "Epoch 66/150\n",
            "1/1 [==============================] - 0s 10ms/step - loss: 0.3665\n",
            "Epoch 67/150\n",
            "1/1 [==============================] - 0s 19ms/step - loss: 0.3638\n",
            "Epoch 68/150\n",
            "1/1 [==============================] - 0s 12ms/step - loss: 0.3612\n",
            "Epoch 69/150\n",
            "1/1 [==============================] - 0s 12ms/step - loss: 0.3586\n",
            "Epoch 70/150\n",
            "1/1 [==============================] - 0s 11ms/step - loss: 0.3559\n",
            "Epoch 71/150\n",
            "1/1 [==============================] - 0s 10ms/step - loss: 0.3533\n",
            "Epoch 72/150\n",
            "1/1 [==============================] - 0s 9ms/step - loss: 0.3508\n",
            "Epoch 73/150\n",
            "1/1 [==============================] - 0s 9ms/step - loss: 0.3482\n",
            "Epoch 74/150\n",
            "1/1 [==============================] - 0s 10ms/step - loss: 0.3457\n",
            "Epoch 75/150\n",
            "1/1 [==============================] - 0s 11ms/step - loss: 0.3432\n",
            "Epoch 76/150\n",
            "1/1 [==============================] - 0s 11ms/step - loss: 0.3407\n",
            "Epoch 77/150\n",
            "1/1 [==============================] - 0s 13ms/step - loss: 0.3382\n",
            "Epoch 78/150\n",
            "1/1 [==============================] - 0s 13ms/step - loss: 0.3357\n",
            "Epoch 79/150\n",
            "1/1 [==============================] - 0s 11ms/step - loss: 0.3333\n",
            "Epoch 80/150\n",
            "1/1 [==============================] - 0s 10ms/step - loss: 0.3308\n",
            "Epoch 81/150\n",
            "1/1 [==============================] - 0s 13ms/step - loss: 0.3284\n",
            "Epoch 82/150\n",
            "1/1 [==============================] - 0s 11ms/step - loss: 0.3260\n",
            "Epoch 83/150\n",
            "1/1 [==============================] - 0s 10ms/step - loss: 0.3237\n",
            "Epoch 84/150\n",
            "1/1 [==============================] - 0s 10ms/step - loss: 0.3213\n",
            "Epoch 85/150\n",
            "1/1 [==============================] - 0s 10ms/step - loss: 0.3190\n",
            "Epoch 86/150\n",
            "1/1 [==============================] - 0s 10ms/step - loss: 0.3166\n",
            "Epoch 87/150\n",
            "1/1 [==============================] - 0s 10ms/step - loss: 0.3143\n",
            "Epoch 88/150\n",
            "1/1 [==============================] - 0s 16ms/step - loss: 0.3120\n",
            "Epoch 89/150\n",
            "1/1 [==============================] - 0s 11ms/step - loss: 0.3098\n",
            "Epoch 90/150\n",
            "1/1 [==============================] - 0s 11ms/step - loss: 0.3075\n",
            "Epoch 91/150\n",
            "1/1 [==============================] - 0s 11ms/step - loss: 0.3053\n",
            "Epoch 92/150\n",
            "1/1 [==============================] - 0s 10ms/step - loss: 0.3031\n",
            "Epoch 93/150\n",
            "1/1 [==============================] - 0s 10ms/step - loss: 0.3008\n",
            "Epoch 94/150\n",
            "1/1 [==============================] - 0s 12ms/step - loss: 0.2987\n",
            "Epoch 95/150\n",
            "1/1 [==============================] - 0s 10ms/step - loss: 0.2965\n",
            "Epoch 96/150\n",
            "1/1 [==============================] - 0s 9ms/step - loss: 0.2943\n",
            "Epoch 97/150\n",
            "1/1 [==============================] - 0s 12ms/step - loss: 0.2922\n",
            "Epoch 98/150\n",
            "1/1 [==============================] - 0s 16ms/step - loss: 0.2900\n",
            "Epoch 99/150\n",
            "1/1 [==============================] - 0s 17ms/step - loss: 0.2879\n",
            "Epoch 100/150\n",
            "1/1 [==============================] - 0s 13ms/step - loss: 0.2858\n",
            "Epoch 101/150\n",
            "1/1 [==============================] - 0s 9ms/step - loss: 0.2837\n",
            "Epoch 102/150\n",
            "1/1 [==============================] - 0s 10ms/step - loss: 0.2817\n",
            "Epoch 103/150\n",
            "1/1 [==============================] - 0s 9ms/step - loss: 0.2796\n",
            "Epoch 104/150\n",
            "1/1 [==============================] - 0s 10ms/step - loss: 0.2776\n",
            "Epoch 105/150\n",
            "1/1 [==============================] - 0s 10ms/step - loss: 0.2756\n",
            "Epoch 106/150\n",
            "1/1 [==============================] - 0s 10ms/step - loss: 0.2736\n",
            "Epoch 107/150\n",
            "1/1 [==============================] - 0s 15ms/step - loss: 0.2716\n",
            "Epoch 108/150\n",
            "1/1 [==============================] - 0s 9ms/step - loss: 0.2696\n",
            "Epoch 109/150\n",
            "1/1 [==============================] - 0s 14ms/step - loss: 0.2676\n",
            "Epoch 110/150\n",
            "1/1 [==============================] - 0s 12ms/step - loss: 0.2657\n",
            "Epoch 111/150\n",
            "1/1 [==============================] - 0s 11ms/step - loss: 0.2637\n",
            "Epoch 112/150\n",
            "1/1 [==============================] - 0s 16ms/step - loss: 0.2618\n",
            "Epoch 113/150\n",
            "1/1 [==============================] - 0s 15ms/step - loss: 0.2599\n",
            "Epoch 114/150\n",
            "1/1 [==============================] - 0s 13ms/step - loss: 0.2580\n",
            "Epoch 115/150\n",
            "1/1 [==============================] - 0s 17ms/step - loss: 0.2561\n",
            "Epoch 116/150\n",
            "1/1 [==============================] - 0s 12ms/step - loss: 0.2543\n",
            "Epoch 117/150\n",
            "1/1 [==============================] - 0s 12ms/step - loss: 0.2524\n",
            "Epoch 118/150\n",
            "1/1 [==============================] - 0s 13ms/step - loss: 0.2506\n",
            "Epoch 119/150\n",
            "1/1 [==============================] - 0s 14ms/step - loss: 0.2488\n",
            "Epoch 120/150\n",
            "1/1 [==============================] - 0s 13ms/step - loss: 0.2469\n",
            "Epoch 121/150\n",
            "1/1 [==============================] - 0s 12ms/step - loss: 0.2451\n",
            "Epoch 122/150\n",
            "1/1 [==============================] - 0s 14ms/step - loss: 0.2434\n",
            "Epoch 123/150\n",
            "1/1 [==============================] - 0s 13ms/step - loss: 0.2416\n",
            "Epoch 124/150\n",
            "1/1 [==============================] - 0s 12ms/step - loss: 0.2398\n",
            "Epoch 125/150\n",
            "1/1 [==============================] - 0s 12ms/step - loss: 0.2381\n",
            "Epoch 126/150\n",
            "1/1 [==============================] - 0s 12ms/step - loss: 0.2363\n",
            "Epoch 127/150\n",
            "1/1 [==============================] - 0s 12ms/step - loss: 0.2346\n",
            "Epoch 128/150\n",
            "1/1 [==============================] - 0s 11ms/step - loss: 0.2329\n",
            "Epoch 129/150\n",
            "1/1 [==============================] - 0s 11ms/step - loss: 0.2312\n",
            "Epoch 130/150\n",
            "1/1 [==============================] - 0s 11ms/step - loss: 0.2295\n",
            "Epoch 131/150\n",
            "1/1 [==============================] - 0s 12ms/step - loss: 0.2279\n",
            "Epoch 132/150\n",
            "1/1 [==============================] - 0s 11ms/step - loss: 0.2262\n",
            "Epoch 133/150\n",
            "1/1 [==============================] - 0s 11ms/step - loss: 0.2245\n",
            "Epoch 134/150\n",
            "1/1 [==============================] - 0s 11ms/step - loss: 0.2229\n",
            "Epoch 135/150\n",
            "1/1 [==============================] - 0s 10ms/step - loss: 0.2213\n",
            "Epoch 136/150\n",
            "1/1 [==============================] - 0s 10ms/step - loss: 0.2197\n",
            "Epoch 137/150\n",
            "1/1 [==============================] - 0s 10ms/step - loss: 0.2181\n",
            "Epoch 138/150\n",
            "1/1 [==============================] - 0s 10ms/step - loss: 0.2165\n",
            "Epoch 139/150\n",
            "1/1 [==============================] - 0s 11ms/step - loss: 0.2149\n",
            "Epoch 140/150\n",
            "1/1 [==============================] - 0s 10ms/step - loss: 0.2133\n",
            "Epoch 141/150\n",
            "1/1 [==============================] - 0s 11ms/step - loss: 0.2118\n",
            "Epoch 142/150\n",
            "1/1 [==============================] - 0s 10ms/step - loss: 0.2102\n",
            "Epoch 143/150\n",
            "1/1 [==============================] - 0s 10ms/step - loss: 0.2087\n",
            "Epoch 144/150\n",
            "1/1 [==============================] - 0s 11ms/step - loss: 0.2072\n",
            "Epoch 145/150\n",
            "1/1 [==============================] - 0s 10ms/step - loss: 0.2057\n",
            "Epoch 146/150\n",
            "1/1 [==============================] - 0s 10ms/step - loss: 0.2042\n",
            "Epoch 147/150\n",
            "1/1 [==============================] - 0s 10ms/step - loss: 0.2027\n",
            "Epoch 148/150\n",
            "1/1 [==============================] - 0s 10ms/step - loss: 0.2012\n",
            "Epoch 149/150\n",
            "1/1 [==============================] - 0s 10ms/step - loss: 0.1998\n",
            "Epoch 150/150\n",
            "1/1 [==============================] - 0s 10ms/step - loss: 0.1983\n"
          ]
        },
        {
          "output_type": "execute_result",
          "data": {
            "text/plain": [
              "<keras.src.callbacks.History at 0x7b8277f78250>"
            ]
          },
          "metadata": {},
          "execution_count": 6
        }
      ]
    },
    {
      "cell_type": "markdown",
      "source": [
        "model yang telah di latih, dapat kita gunakan model tersebut untuk memprediksi data yang belum pernah dilihatnya/ada menggunakan fungsi predict.\n",
        "ketika menjalankan kode 'print(model.predict([10.0]))' hasil yang didapat seharusnya adalah 22 dimana 2(10)+2=22."
      ],
      "metadata": {
        "id": "UYT2bbQnHmDn"
      }
    },
    {
      "cell_type": "code",
      "source": [
        "print(model.predict([10.0]))"
      ],
      "metadata": {
        "colab": {
          "base_uri": "https://localhost:8080/"
        },
        "id": "fimAS4dKI2bG",
        "outputId": "4ea42663-4906-40b1-a114-13a4030b0f09"
      },
      "execution_count": null,
      "outputs": [
        {
          "output_type": "stream",
          "name": "stdout",
          "text": [
            "1/1 [==============================] - 0s 39ms/step\n",
            "[[23.351082]]\n"
          ]
        }
      ]
    },
    {
      "cell_type": "markdown",
      "source": [
        "hasil yang didapat dari JST(Jaringan Saraf Tiruan) kita akan mendekati angka 22/23. karena JST menghiyung probabilitas. NN tidak memprediksi kepastian melainkan probabilitas.\n",
        "pada kasus ini NN mempelajari bahwa pola yang terdapat pada dataset kemungkinan adalah 2X+2, namun ia juga belum pasti tentang hal itu. sehingga prediksi yang dihasilkan adalah probabilitas hasilnya mendekati 22/23. semakin banyak data yang kita berikan dan juga error ketika trining model semakin kecil, maka prediksi dari NN akan semakin mendekati 22/23."
      ],
      "metadata": {
        "id": "Qu6tAthMJJwJ"
      }
    }
  ]
}
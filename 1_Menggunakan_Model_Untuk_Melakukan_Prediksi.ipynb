{
  "nbformat": 4,
  "nbformat_minor": 0,
  "metadata": {
    "colab": {
      "provenance": [],
      "toc_visible": true,
      "authorship_tag": "ABX9TyOvwEAy4/Ua77P45QCapxrr",
      "include_colab_link": true
    },
    "kernelspec": {
      "name": "python3",
      "display_name": "Python 3"
    },
    "language_info": {
      "name": "python"
    }
  },
  "cells": [
    {
      "cell_type": "markdown",
      "metadata": {
        "id": "view-in-github",
        "colab_type": "text"
      },
      "source": [
        "<a href=\"https://colab.research.google.com/github/alwiyahya99/MachineLearning/blob/main/1_Menggunakan_Model_Untuk_Melakukan_Prediksi.ipynb\" target=\"_parent\"><img src=\"https://colab.research.google.com/assets/colab-badge.svg\" alt=\"Open In Colab\"/></a>"
      ]
    },
    {
      "cell_type": "markdown",
      "source": [
        "**Membuat Dan Mlatih Model NN Dengan Tensorflow Dan Keras : Menggunakan Model Untuk Melakukan Prediksi**\n",
        "\n",
        "Bagian dari materi **Belajar Pengembangan Machine Learning**\n"
      ],
      "metadata": {
        "id": "sXCa3nMpKACT"
      }
    },
    {
      "cell_type": "markdown",
      "source": [
        "**1. IMPORT LIBRARY**"
      ],
      "metadata": {
        "id": "HRqmwsP8qGiB"
      }
    },
    {
      "cell_type": "code",
      "execution_count": null,
      "metadata": {
        "id": "4i1KyO3kCyMk"
      },
      "outputs": [],
      "source": [
        "import tensorflow as tf\n",
        "import numpy as np\n",
        "from tensorflow import keras"
      ]
    },
    {
      "cell_type": "markdown",
      "source": [
        "**2. MASUKAN DATA**"
      ],
      "metadata": {
        "id": "7-QDuuYQqZVC"
      }
    },
    {
      "cell_type": "code",
      "source": [
        "xs = np.array([1.0, 2.0, 3.0, 4.0, 5.0, 6.0], dtype=float)\n",
        "ys = np.array([4.0, 6.0, 8.0, 10.0, 12.0, 14.0], dtype=float)"
      ],
      "metadata": {
        "id": "GAcbcIJNDELQ"
      },
      "execution_count": null,
      "outputs": []
    },
    {
      "cell_type": "markdown",
      "source": [
        "**3. MEMBUAT MODEL**\n",
        "\n",
        "membuat janringan JST(Jaringan Saraf Tiruan) dengan memanggil fungsi tf.keras.Squential()"
      ],
      "metadata": {
        "id": "A7NVKHZuEP_c"
      }
    },
    {
      "cell_type": "code",
      "source": [
        "model = tf.keras.Sequential([keras.layers.Dense(units=1, input_shape=[1])])"
      ],
      "metadata": {
        "id": "OQSVtFO0DYS0"
      },
      "execution_count": null,
      "outputs": []
    },
    {
      "cell_type": "markdown",
      "source": [
        "Pada model sequential ini, kemudian isi layer yang kita inginkan untuk model kita. untuk membuat sebuah layer dapat menggunakan fungsi keras.layer.Dense().\n",
        "PARAMETER :\n",
        "- **unit**\n",
        "\n",
        "dari fungsi keras.layer.Dense() adalah jumlah perceptron yang dimiliki oleh ayer tersebut. 'perlu diperhatikan pada model sequential : layer pertaman dari model haruslah memiliki parameter input_shape agar model bisa mengenali bentuk input yang akan diproses'.\n",
        "\n",
        "- **input_shape**\n",
        "\n",
        "menunjukan bentuk dari setiap elemen input yang akan diterima oleh model. pada kasus ini kita setiap elemen dari data kita adalah sebuah bilanagan numerik 1 digit, sehingga bisa isi input_shape kita dengan angka 1. jika elemen dari sebuah dataset kita berupa gambar berdimensi 32*32 pixel, maka input_shape yang sesuai adalah [32,32]"
      ],
      "metadata": {
        "id": "PaN4KcxkEZFN"
      }
    },
    {
      "cell_type": "markdown",
      "source": [
        "**4. menentukan optimizer dan loss dari model**\n",
        "\n",
        "kemudian, menentukan optimizer dan loss dari model agar model kita bisa belajar. untuk menentukan optimizer dan loss kita gunakan fungsi compile.\n",
        "untuk masala regresi kita yang sederhana, kita dapat menggunakan stochastic gradient descent sebagai optimizer, dan mean squared error sebagai loss function model kita."
      ],
      "metadata": {
        "id": "CScCOaU5Fy68"
      }
    },
    {
      "cell_type": "code",
      "source": [
        "model.compile(optimizer='sgd', loss='mean_squared_error')"
      ],
      "metadata": {
        "id": "CD0TrWLPGRUt"
      },
      "execution_count": null,
      "outputs": []
    },
    {
      "cell_type": "markdown",
      "source": [
        "**5. MELATIH MODEL**\n",
        "\n",
        "terakhir, kita panggil fungsi yang paling terkenal dari machine learning yaitu fit().\n",
        "\n",
        "fit() adalah **fungsi di mana kita menyuruh model kita untuk mempelajari hubungan antara atribut dan label pada dataset**.\n",
        "\n",
        "selain atribut dan label, parameter lain yang diperlukan sebuah model keras pada fit adalah epochs.\n",
        "epochs adalah berapa kali sebuah JST(Jaringan Saraf Tiruan) harus belajar memperbaiki akurasinya."
      ],
      "metadata": {
        "id": "i5oZZrywGadm"
      }
    },
    {
      "cell_type": "code",
      "source": [
        "model.fit(xs, ys, epochs=150)\n",
        "\n",
        "# dapat dilihat setiap epochs yang baru, error atau loss yang dibuat model\n",
        "# akan semakin menurun pada kasus regresi kita"
      ],
      "metadata": {
        "colab": {
          "base_uri": "https://localhost:8080/"
        },
        "id": "nu1185MSHHRp",
        "outputId": "126fcb42-61d0-4958-9c6a-ab4f72a5f5e0"
      },
      "execution_count": null,
      "outputs": [
        {
          "output_type": "stream",
          "name": "stdout",
          "text": [
            "Epoch 1/150\n",
            "1/1 [==============================] - 0s 393ms/step - loss: 42.7086\n",
            "Epoch 2/150\n",
            "1/1 [==============================] - 0s 14ms/step - loss: 20.0379\n",
            "Epoch 3/150\n",
            "1/1 [==============================] - 0s 11ms/step - loss: 9.5432\n",
            "Epoch 4/150\n",
            "1/1 [==============================] - 0s 11ms/step - loss: 4.6840\n",
            "Epoch 5/150\n",
            "1/1 [==============================] - 0s 7ms/step - loss: 2.4331\n",
            "Epoch 6/150\n",
            "1/1 [==============================] - 0s 9ms/step - loss: 1.3893\n",
            "Epoch 7/150\n",
            "1/1 [==============================] - 0s 10ms/step - loss: 0.9043\n",
            "Epoch 8/150\n",
            "1/1 [==============================] - 0s 11ms/step - loss: 0.6780\n",
            "Epoch 9/150\n",
            "1/1 [==============================] - 0s 9ms/step - loss: 0.5713\n",
            "Epoch 10/150\n",
            "1/1 [==============================] - 0s 8ms/step - loss: 0.5201\n",
            "Epoch 11/150\n",
            "1/1 [==============================] - 0s 8ms/step - loss: 0.4945\n",
            "Epoch 12/150\n",
            "1/1 [==============================] - 0s 8ms/step - loss: 0.4808\n",
            "Epoch 13/150\n",
            "1/1 [==============================] - 0s 8ms/step - loss: 0.4726\n",
            "Epoch 14/150\n",
            "1/1 [==============================] - 0s 8ms/step - loss: 0.4670\n",
            "Epoch 15/150\n",
            "1/1 [==============================] - 0s 8ms/step - loss: 0.4626\n",
            "Epoch 16/150\n",
            "1/1 [==============================] - 0s 9ms/step - loss: 0.4588\n",
            "Epoch 17/150\n",
            "1/1 [==============================] - 0s 8ms/step - loss: 0.4552\n",
            "Epoch 18/150\n",
            "1/1 [==============================] - 0s 8ms/step - loss: 0.4518\n",
            "Epoch 19/150\n",
            "1/1 [==============================] - 0s 9ms/step - loss: 0.4485\n",
            "Epoch 20/150\n",
            "1/1 [==============================] - 0s 8ms/step - loss: 0.4452\n",
            "Epoch 21/150\n",
            "1/1 [==============================] - 0s 19ms/step - loss: 0.4419\n",
            "Epoch 22/150\n",
            "1/1 [==============================] - 0s 9ms/step - loss: 0.4387\n",
            "Epoch 23/150\n",
            "1/1 [==============================] - 0s 8ms/step - loss: 0.4355\n",
            "Epoch 24/150\n",
            "1/1 [==============================] - 0s 11ms/step - loss: 0.4323\n",
            "Epoch 25/150\n",
            "1/1 [==============================] - 0s 8ms/step - loss: 0.4292\n",
            "Epoch 26/150\n",
            "1/1 [==============================] - 0s 8ms/step - loss: 0.4261\n",
            "Epoch 27/150\n",
            "1/1 [==============================] - 0s 9ms/step - loss: 0.4230\n",
            "Epoch 28/150\n",
            "1/1 [==============================] - 0s 9ms/step - loss: 0.4199\n",
            "Epoch 29/150\n",
            "1/1 [==============================] - 0s 7ms/step - loss: 0.4168\n",
            "Epoch 30/150\n",
            "1/1 [==============================] - 0s 8ms/step - loss: 0.4138\n",
            "Epoch 31/150\n",
            "1/1 [==============================] - 0s 8ms/step - loss: 0.4108\n",
            "Epoch 32/150\n",
            "1/1 [==============================] - 0s 10ms/step - loss: 0.4078\n",
            "Epoch 33/150\n",
            "1/1 [==============================] - 0s 13ms/step - loss: 0.4048\n",
            "Epoch 34/150\n",
            "1/1 [==============================] - 0s 11ms/step - loss: 0.4019\n",
            "Epoch 35/150\n",
            "1/1 [==============================] - 0s 10ms/step - loss: 0.3989\n",
            "Epoch 36/150\n",
            "1/1 [==============================] - 0s 8ms/step - loss: 0.3960\n",
            "Epoch 37/150\n",
            "1/1 [==============================] - 0s 10ms/step - loss: 0.3931\n",
            "Epoch 38/150\n",
            "1/1 [==============================] - 0s 8ms/step - loss: 0.3903\n",
            "Epoch 39/150\n",
            "1/1 [==============================] - 0s 8ms/step - loss: 0.3874\n",
            "Epoch 40/150\n",
            "1/1 [==============================] - 0s 8ms/step - loss: 0.3846\n",
            "Epoch 41/150\n",
            "1/1 [==============================] - 0s 14ms/step - loss: 0.3818\n",
            "Epoch 42/150\n",
            "1/1 [==============================] - 0s 9ms/step - loss: 0.3790\n",
            "Epoch 43/150\n",
            "1/1 [==============================] - 0s 10ms/step - loss: 0.3763\n",
            "Epoch 44/150\n",
            "1/1 [==============================] - 0s 8ms/step - loss: 0.3735\n",
            "Epoch 45/150\n",
            "1/1 [==============================] - 0s 7ms/step - loss: 0.3708\n",
            "Epoch 46/150\n",
            "1/1 [==============================] - 0s 11ms/step - loss: 0.3681\n",
            "Epoch 47/150\n",
            "1/1 [==============================] - 0s 9ms/step - loss: 0.3654\n",
            "Epoch 48/150\n",
            "1/1 [==============================] - 0s 9ms/step - loss: 0.3628\n",
            "Epoch 49/150\n",
            "1/1 [==============================] - 0s 8ms/step - loss: 0.3601\n",
            "Epoch 50/150\n",
            "1/1 [==============================] - 0s 8ms/step - loss: 0.3575\n",
            "Epoch 51/150\n",
            "1/1 [==============================] - 0s 8ms/step - loss: 0.3549\n",
            "Epoch 52/150\n",
            "1/1 [==============================] - 0s 8ms/step - loss: 0.3523\n",
            "Epoch 53/150\n",
            "1/1 [==============================] - 0s 8ms/step - loss: 0.3497\n",
            "Epoch 54/150\n",
            "1/1 [==============================] - 0s 9ms/step - loss: 0.3472\n",
            "Epoch 55/150\n",
            "1/1 [==============================] - 0s 9ms/step - loss: 0.3447\n",
            "Epoch 56/150\n",
            "1/1 [==============================] - 0s 10ms/step - loss: 0.3421\n",
            "Epoch 57/150\n",
            "1/1 [==============================] - 0s 12ms/step - loss: 0.3397\n",
            "Epoch 58/150\n",
            "1/1 [==============================] - 0s 9ms/step - loss: 0.3372\n",
            "Epoch 59/150\n",
            "1/1 [==============================] - 0s 9ms/step - loss: 0.3347\n",
            "Epoch 60/150\n",
            "1/1 [==============================] - 0s 10ms/step - loss: 0.3323\n",
            "Epoch 61/150\n",
            "1/1 [==============================] - 0s 9ms/step - loss: 0.3299\n",
            "Epoch 62/150\n",
            "1/1 [==============================] - 0s 9ms/step - loss: 0.3275\n",
            "Epoch 63/150\n",
            "1/1 [==============================] - 0s 9ms/step - loss: 0.3251\n",
            "Epoch 64/150\n",
            "1/1 [==============================] - 0s 9ms/step - loss: 0.3227\n",
            "Epoch 65/150\n",
            "1/1 [==============================] - 0s 8ms/step - loss: 0.3204\n",
            "Epoch 66/150\n",
            "1/1 [==============================] - 0s 8ms/step - loss: 0.3180\n",
            "Epoch 67/150\n",
            "1/1 [==============================] - 0s 8ms/step - loss: 0.3157\n",
            "Epoch 68/150\n",
            "1/1 [==============================] - 0s 8ms/step - loss: 0.3134\n",
            "Epoch 69/150\n",
            "1/1 [==============================] - 0s 12ms/step - loss: 0.3111\n",
            "Epoch 70/150\n",
            "1/1 [==============================] - 0s 10ms/step - loss: 0.3089\n",
            "Epoch 71/150\n",
            "1/1 [==============================] - 0s 11ms/step - loss: 0.3066\n",
            "Epoch 72/150\n",
            "1/1 [==============================] - 0s 8ms/step - loss: 0.3044\n",
            "Epoch 73/150\n",
            "1/1 [==============================] - 0s 15ms/step - loss: 0.3022\n",
            "Epoch 74/150\n",
            "1/1 [==============================] - 0s 11ms/step - loss: 0.3000\n",
            "Epoch 75/150\n",
            "1/1 [==============================] - 0s 13ms/step - loss: 0.2978\n",
            "Epoch 76/150\n",
            "1/1 [==============================] - 0s 10ms/step - loss: 0.2956\n",
            "Epoch 77/150\n",
            "1/1 [==============================] - 0s 9ms/step - loss: 0.2934\n",
            "Epoch 78/150\n",
            "1/1 [==============================] - 0s 7ms/step - loss: 0.2913\n",
            "Epoch 79/150\n",
            "1/1 [==============================] - 0s 8ms/step - loss: 0.2892\n",
            "Epoch 80/150\n",
            "1/1 [==============================] - 0s 14ms/step - loss: 0.2871\n",
            "Epoch 81/150\n",
            "1/1 [==============================] - 0s 10ms/step - loss: 0.2850\n",
            "Epoch 82/150\n",
            "1/1 [==============================] - 0s 10ms/step - loss: 0.2829\n",
            "Epoch 83/150\n",
            "1/1 [==============================] - 0s 10ms/step - loss: 0.2808\n",
            "Epoch 84/150\n",
            "1/1 [==============================] - 0s 9ms/step - loss: 0.2788\n",
            "Epoch 85/150\n",
            "1/1 [==============================] - 0s 10ms/step - loss: 0.2768\n",
            "Epoch 86/150\n",
            "1/1 [==============================] - 0s 9ms/step - loss: 0.2748\n",
            "Epoch 87/150\n",
            "1/1 [==============================] - 0s 10ms/step - loss: 0.2728\n",
            "Epoch 88/150\n",
            "1/1 [==============================] - 0s 11ms/step - loss: 0.2708\n",
            "Epoch 89/150\n",
            "1/1 [==============================] - 0s 9ms/step - loss: 0.2688\n",
            "Epoch 90/150\n",
            "1/1 [==============================] - 0s 15ms/step - loss: 0.2668\n",
            "Epoch 91/150\n",
            "1/1 [==============================] - 0s 12ms/step - loss: 0.2649\n",
            "Epoch 92/150\n",
            "1/1 [==============================] - 0s 11ms/step - loss: 0.2630\n",
            "Epoch 93/150\n",
            "1/1 [==============================] - 0s 9ms/step - loss: 0.2610\n",
            "Epoch 94/150\n",
            "1/1 [==============================] - 0s 9ms/step - loss: 0.2591\n",
            "Epoch 95/150\n",
            "1/1 [==============================] - 0s 10ms/step - loss: 0.2573\n",
            "Epoch 96/150\n",
            "1/1 [==============================] - 0s 10ms/step - loss: 0.2554\n",
            "Epoch 97/150\n",
            "1/1 [==============================] - 0s 11ms/step - loss: 0.2535\n",
            "Epoch 98/150\n",
            "1/1 [==============================] - 0s 11ms/step - loss: 0.2517\n",
            "Epoch 99/150\n",
            "1/1 [==============================] - 0s 10ms/step - loss: 0.2498\n",
            "Epoch 100/150\n",
            "1/1 [==============================] - 0s 13ms/step - loss: 0.2480\n",
            "Epoch 101/150\n",
            "1/1 [==============================] - 0s 9ms/step - loss: 0.2462\n",
            "Epoch 102/150\n",
            "1/1 [==============================] - 0s 9ms/step - loss: 0.2444\n",
            "Epoch 103/150\n",
            "1/1 [==============================] - 0s 11ms/step - loss: 0.2426\n",
            "Epoch 104/150\n",
            "1/1 [==============================] - 0s 12ms/step - loss: 0.2409\n",
            "Epoch 105/150\n",
            "1/1 [==============================] - 0s 10ms/step - loss: 0.2391\n",
            "Epoch 106/150\n",
            "1/1 [==============================] - 0s 8ms/step - loss: 0.2374\n",
            "Epoch 107/150\n",
            "1/1 [==============================] - 0s 8ms/step - loss: 0.2356\n",
            "Epoch 108/150\n",
            "1/1 [==============================] - 0s 9ms/step - loss: 0.2339\n",
            "Epoch 109/150\n",
            "1/1 [==============================] - 0s 8ms/step - loss: 0.2322\n",
            "Epoch 110/150\n",
            "1/1 [==============================] - 0s 9ms/step - loss: 0.2305\n",
            "Epoch 111/150\n",
            "1/1 [==============================] - 0s 9ms/step - loss: 0.2288\n",
            "Epoch 112/150\n",
            "1/1 [==============================] - 0s 9ms/step - loss: 0.2272\n",
            "Epoch 113/150\n",
            "1/1 [==============================] - 0s 11ms/step - loss: 0.2255\n",
            "Epoch 114/150\n",
            "1/1 [==============================] - 0s 10ms/step - loss: 0.2239\n",
            "Epoch 115/150\n",
            "1/1 [==============================] - 0s 9ms/step - loss: 0.2223\n",
            "Epoch 116/150\n",
            "1/1 [==============================] - 0s 9ms/step - loss: 0.2206\n",
            "Epoch 117/150\n",
            "1/1 [==============================] - 0s 8ms/step - loss: 0.2190\n",
            "Epoch 118/150\n",
            "1/1 [==============================] - 0s 8ms/step - loss: 0.2174\n",
            "Epoch 119/150\n",
            "1/1 [==============================] - 0s 10ms/step - loss: 0.2158\n",
            "Epoch 120/150\n",
            "1/1 [==============================] - 0s 9ms/step - loss: 0.2143\n",
            "Epoch 121/150\n",
            "1/1 [==============================] - 0s 8ms/step - loss: 0.2127\n",
            "Epoch 122/150\n",
            "1/1 [==============================] - 0s 9ms/step - loss: 0.2112\n",
            "Epoch 123/150\n",
            "1/1 [==============================] - 0s 12ms/step - loss: 0.2096\n",
            "Epoch 124/150\n",
            "1/1 [==============================] - 0s 9ms/step - loss: 0.2081\n",
            "Epoch 125/150\n",
            "1/1 [==============================] - 0s 9ms/step - loss: 0.2066\n",
            "Epoch 126/150\n",
            "1/1 [==============================] - 0s 8ms/step - loss: 0.2051\n",
            "Epoch 127/150\n",
            "1/1 [==============================] - 0s 9ms/step - loss: 0.2036\n",
            "Epoch 128/150\n",
            "1/1 [==============================] - 0s 9ms/step - loss: 0.2021\n",
            "Epoch 129/150\n",
            "1/1 [==============================] - 0s 9ms/step - loss: 0.2006\n",
            "Epoch 130/150\n",
            "1/1 [==============================] - 0s 9ms/step - loss: 0.1992\n",
            "Epoch 131/150\n",
            "1/1 [==============================] - 0s 9ms/step - loss: 0.1977\n",
            "Epoch 132/150\n",
            "1/1 [==============================] - 0s 9ms/step - loss: 0.1963\n",
            "Epoch 133/150\n",
            "1/1 [==============================] - 0s 9ms/step - loss: 0.1948\n",
            "Epoch 134/150\n",
            "1/1 [==============================] - 0s 8ms/step - loss: 0.1934\n",
            "Epoch 135/150\n",
            "1/1 [==============================] - 0s 8ms/step - loss: 0.1920\n",
            "Epoch 136/150\n",
            "1/1 [==============================] - 0s 9ms/step - loss: 0.1906\n",
            "Epoch 137/150\n",
            "1/1 [==============================] - 0s 10ms/step - loss: 0.1892\n",
            "Epoch 138/150\n",
            "1/1 [==============================] - 0s 9ms/step - loss: 0.1878\n",
            "Epoch 139/150\n",
            "1/1 [==============================] - 0s 9ms/step - loss: 0.1865\n",
            "Epoch 140/150\n",
            "1/1 [==============================] - 0s 10ms/step - loss: 0.1851\n",
            "Epoch 141/150\n",
            "1/1 [==============================] - 0s 9ms/step - loss: 0.1838\n",
            "Epoch 142/150\n",
            "1/1 [==============================] - 0s 9ms/step - loss: 0.1824\n",
            "Epoch 143/150\n",
            "1/1 [==============================] - 0s 9ms/step - loss: 0.1811\n",
            "Epoch 144/150\n",
            "1/1 [==============================] - 0s 9ms/step - loss: 0.1798\n",
            "Epoch 145/150\n",
            "1/1 [==============================] - 0s 9ms/step - loss: 0.1785\n",
            "Epoch 146/150\n",
            "1/1 [==============================] - 0s 9ms/step - loss: 0.1772\n",
            "Epoch 147/150\n",
            "1/1 [==============================] - 0s 9ms/step - loss: 0.1759\n",
            "Epoch 148/150\n",
            "1/1 [==============================] - 0s 8ms/step - loss: 0.1746\n",
            "Epoch 149/150\n",
            "1/1 [==============================] - 0s 8ms/step - loss: 0.1733\n",
            "Epoch 150/150\n",
            "1/1 [==============================] - 0s 8ms/step - loss: 0.1721\n"
          ]
        },
        {
          "output_type": "execute_result",
          "data": {
            "text/plain": [
              "<keras.src.callbacks.History at 0x792d28109d20>"
            ]
          },
          "metadata": {},
          "execution_count": 9
        }
      ]
    },
    {
      "cell_type": "markdown",
      "source": [
        "**6. MENJALANKAN MODEL**\n",
        "\n",
        "model yang telah di latih, dapat kita gunakan model tersebut untuk memprediksi data yang belum pernah dilihatnya/ada menggunakan fungsi predict.\n",
        "ketika menjalankan kode 'print(model.predict([10.0]))' hasil yang didapat seharusnya adalah 22 dimana 2(10)+2=22."
      ],
      "metadata": {
        "id": "UYT2bbQnHmDn"
      }
    },
    {
      "cell_type": "code",
      "source": [
        "print(model.predict([10.0]))"
      ],
      "metadata": {
        "colab": {
          "base_uri": "https://localhost:8080/"
        },
        "id": "fimAS4dKI2bG",
        "outputId": "737610b0-76df-431c-a28a-3ee4b8e7b309"
      },
      "execution_count": null,
      "outputs": [
        {
          "output_type": "stream",
          "name": "stdout",
          "text": [
            "1/1 [==============================] - 0s 92ms/step\n",
            "[[23.258541]]\n"
          ]
        }
      ]
    },
    {
      "cell_type": "markdown",
      "source": [
        "hasil yang didapat dari JST(Jaringan Saraf Tiruan) kita akan mendekati angka 22/23. karena JST menghiyung probabilitas. NN tidak memprediksi kepastian melainkan probabilitas.\n",
        "pada kasus ini NN mempelajari bahwa pola yang terdapat pada dataset kemungkinan adalah 2X+2, namun ia juga belum pasti tentang hal itu. sehingga prediksi yang dihasilkan adalah probabilitas hasilnya mendekati 22/23. semakin banyak data yang kita berikan dan juga error ketika trining model semakin kecil, maka prediksi dari NN akan semakin mendekati 22/23."
      ],
      "metadata": {
        "id": "Qu6tAthMJJwJ"
      }
    }
  ]
}